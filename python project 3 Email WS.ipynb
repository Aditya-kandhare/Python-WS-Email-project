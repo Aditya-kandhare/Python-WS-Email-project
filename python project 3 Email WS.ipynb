{
 "cells": [
  {
   "cell_type": "markdown",
   "metadata": {},
   "source": [
    "# Sending a web scraped .csv file through Email\n"
   ]
  },
  {
   "cell_type": "raw",
   "metadata": {},
   "source": [
    "The flow of our program :-\n",
    " 1) Scraping a web page as per our requrement\n",
    " 2) convertin it to .csv file using python pandas library\n",
    " 3) Finding the path of our file\n",
    " 4) sending the attachment to mail"
   ]
  },
  {
   "cell_type": "code",
   "execution_count": null,
   "metadata": {},
   "outputs": [],
   "source": []
  },
  {
   "cell_type": "raw",
   "metadata": {},
   "source": [
    "Key points to remember:-\n",
    "1) Get the access permission from Gmail\n",
    "2) Generate the app password\n",
    "3) Normal Gmail login password will not work\n",
    "4) We can use import getpass to hide the login datails\n",
    "5) Make sure to quit after sending the Email"
   ]
  },
  {
   "cell_type": "markdown",
   "metadata": {},
   "source": [
    "# Scraping the web page"
   ]
  },
  {
   "cell_type": "code",
   "execution_count": 1,
   "metadata": {},
   "outputs": [],
   "source": [
    "import requests    # importing requests\n",
    "import bs4         #importing bs4\n",
    "final_result = set()\n",
    "base_url ='http://quotes.toscrape.com/page/' # Base url without the page number as +\n",
    "                                            # + we will parse through it later to reach out to all the pages\n",
    "for n in range(1,11):\n",
    "    result = base_url + str(n) \n",
    "    res = requests.get(result)\n",
    "    soup = bs4.BeautifulSoup(res.text,'lxml')   # creating Beautifulsoup object\n",
    "    soup.select('.author')                     # to access all the names of authors\n",
    "    for names in soup.select('.author'):\n",
    "        final_result.add(names.text)           # using method add to load the result in the set variable"
   ]
  },
  {
   "cell_type": "code",
   "execution_count": 2,
   "metadata": {},
   "outputs": [
    {
     "data": {
      "text/plain": [
       "{'Albert Einstein',\n",
       " 'Alexandre Dumas fils',\n",
       " 'Alfred Tennyson',\n",
       " 'Allen Saunders',\n",
       " 'André Gide',\n",
       " 'Ayn Rand',\n",
       " 'Bob Marley',\n",
       " 'C.S. Lewis',\n",
       " 'Charles Bukowski',\n",
       " 'Charles M. Schulz',\n",
       " 'Douglas Adams',\n",
       " 'Dr. Seuss',\n",
       " 'E.E. Cummings',\n",
       " 'Eleanor Roosevelt',\n",
       " 'Elie Wiesel',\n",
       " 'Ernest Hemingway',\n",
       " 'Friedrich Nietzsche',\n",
       " 'Garrison Keillor',\n",
       " 'George Bernard Shaw',\n",
       " 'George Carlin',\n",
       " 'George Eliot',\n",
       " 'George R.R. Martin',\n",
       " 'Harper Lee',\n",
       " 'Haruki Murakami',\n",
       " 'Helen Keller',\n",
       " 'J.D. Salinger',\n",
       " 'J.K. Rowling',\n",
       " 'J.M. Barrie',\n",
       " 'J.R.R. Tolkien',\n",
       " 'James Baldwin',\n",
       " 'Jane Austen',\n",
       " 'Jim Henson',\n",
       " 'Jimi Hendrix',\n",
       " 'John Lennon',\n",
       " 'Jorge Luis Borges',\n",
       " 'Khaled Hosseini',\n",
       " \"Madeleine L'Engle\",\n",
       " 'Marilyn Monroe',\n",
       " 'Mark Twain',\n",
       " 'Martin Luther King Jr.',\n",
       " 'Mother Teresa',\n",
       " 'Pablo Neruda',\n",
       " 'Ralph Waldo Emerson',\n",
       " 'Stephenie Meyer',\n",
       " 'Steve Martin',\n",
       " 'Suzanne Collins',\n",
       " 'Terry Pratchett',\n",
       " 'Thomas A. Edison',\n",
       " 'W.C. Fields',\n",
       " 'William Nicholson'}"
      ]
     },
     "execution_count": 2,
     "metadata": {},
     "output_type": "execute_result"
    }
   ],
   "source": [
    "final_result"
   ]
  },
  {
   "cell_type": "markdown",
   "metadata": {},
   "source": [
    "# Converting to a .csv file"
   ]
  },
  {
   "cell_type": "code",
   "execution_count": 3,
   "metadata": {},
   "outputs": [],
   "source": [
    "import pandas as pd          # importing pandas lib for converting our data to a .csv file\n",
    "list1 = list(final_result)   # converting the data to a list\n",
    "df = pd.DataFrame(list1)    #converting to .csv file\n",
    "df.to_csv('websc.csv', index=False)     # naming the file"
   ]
  },
  {
   "cell_type": "markdown",
   "metadata": {},
   "source": [
    "# Path of our file"
   ]
  },
  {
   "cell_type": "code",
   "execution_count": 4,
   "metadata": {},
   "outputs": [
    {
     "name": "stdout",
     "output_type": "stream",
     "text": [
      "C:\\Users\\Dell\\Desktop\\my git practice\\websc.csv\n"
     ]
    }
   ],
   "source": [
    "import os   # import lib           \n",
    "absolute_path = os.path.abspath('websc.csv')      # to get the path of our file\n",
    "print(absolute_path)\n"
   ]
  },
  {
   "cell_type": "markdown",
   "metadata": {},
   "source": [
    "# Send the Email"
   ]
  },
  {
   "cell_type": "code",
   "execution_count": 5,
   "metadata": {},
   "outputs": [
    {
     "name": "stdout",
     "output_type": "stream",
     "text": [
      " Please enter from address: adityakandhare07@gmail.com\n",
      " Please enter to address: adityakandhare2506@gmail.com\n",
      "enter Subject of the Mail: Sent from python\n",
      "Enter the body of the mail: .csv file \n",
      "password please :········\n"
     ]
    },
    {
     "data": {
      "text/plain": [
       "(221, b'2.0.0 closing connection m16sm12522577pgb.92 - gsmtp')"
      ]
     },
     "execution_count": 5,
     "metadata": {},
     "output_type": "execute_result"
    }
   ],
   "source": [
    "# importing lib\n",
    "import smtplib\n",
    "from email.mime.multipart import MIMEMultipart\n",
    "from email.mime.text import MIMEText\n",
    "from email.mime.base import MIMEBase\n",
    "from email import encoders\n",
    "   \n",
    "fromaddr = input(\" Please enter from address: \")\n",
    "toaddr = input(\" Please enter to address: \")\n",
    "   \n",
    "\n",
    "msg = MIMEMultipart()   # creating instance of MIMEMultipart\n",
    "  \n",
    "  \n",
    "msg['From'] = fromaddr  # storing the senders email address\n",
    "  \n",
    "\n",
    "msg['To'] = toaddr       # storing the receivers email address \n",
    "  \n",
    "\n",
    "msg['Subject'] = input(\"enter Subject of the Mail: \") # Getting the subject from user and storing it\n",
    "  \n",
    "\n",
    "body = input(\"Enter the body of the mail: \")           # Getting the body content from user and storing it\n",
    "  \n",
    "    \n",
    "msg.attach(MIMEText(body, 'plain'))\n",
    "  \n",
    "# open the file to be sent \n",
    "\n",
    "filename = \"websc.csv\"                          # name of our .csv file\n",
    "attachment = open(absolute_path , \"rb\")            # absolute_path is the path of our file \n",
    "  \n",
    "\n",
    "p = MIMEBase('application', 'octet-stream')        # created an instance of MIMEBase and named as p\n",
    "  \n",
    "# To change the payload into encoded form\n",
    "p.set_payload((attachment).read())\n",
    "  \n",
    "# encode into base64\n",
    "encoders.encode_base64(p)\n",
    "   \n",
    "p.add_header('Content-Disposition', \"attachment; filename= %s\" % filename)\n",
    "  \n",
    "\n",
    "msg.attach(p)                                     # attach the instance 'p' to instance 'msg'\n",
    "  \n",
    "s = smtplib.SMTP('smtp.gmail.com', 587)           # creates SMTP session\n",
    "  \n",
    "s.starttls()                                      # start TLS for security\n",
    "\n",
    "import getpass                              # getpass is used to hide our password it can also be used to hide our email id\n",
    "password = getpass.getpass(\"password please :\")\n",
    "\n",
    "# login in\n",
    "s.login(fromaddr, password)\n",
    "  \n",
    "# Converts the Multipart msg into a string\n",
    "text = msg.as_string()\n",
    "  \n",
    "# sending the mail\n",
    "s.sendmail(fromaddr, toaddr, text)\n",
    "  \n",
    "# closing the connection\n",
    "s.quit()"
   ]
  },
  {
   "cell_type": "code",
   "execution_count": null,
   "metadata": {},
   "outputs": [],
   "source": []
  },
  {
   "cell_type": "markdown",
   "metadata": {},
   "source": [
    "# Simple format to send an Email (without any attacment)"
   ]
  },
  {
   "cell_type": "raw",
   "metadata": {},
   "source": [
    "The format given below can also be used to send an email.\n",
    "we have to note that only a string formatted msg can be sent through this format.\n",
    "we can not send an attachment here!!!"
   ]
  },
  {
   "cell_type": "code",
   "execution_count": null,
   "metadata": {},
   "outputs": [],
   "source": [
    "import smtplib\n",
    "smtp_object = smtplib.SMTP('smtp.gmail.com',587)\n",
    "smtp_object.ehlo()\n",
    "smtp_object.starttls()\n",
    "\n",
    "import getpass\n",
    "email = getpass.getpass(\"Email please :\")\n",
    "password = getpass.getpass(\"password please :\")\n",
    "smtp_object.login(email,password)\n",
    "from_add = email\n",
    "to_add = email\n",
    "\n",
    "subject = input(\"enter the subject : \")\n",
    "message = input(\" enter the msg : \")\n",
    "msg = \"Subject: \"+subject+'\\n'+message\n",
    "smtp_object.sendmail(from_add,to_add,msg)\n",
    "smtp_object.quit()"
   ]
  }
 ],
 "metadata": {
  "kernelspec": {
   "display_name": "Python 3",
   "language": "python",
   "name": "python3"
  },
  "language_info": {
   "codemirror_mode": {
    "name": "ipython",
    "version": 3
   },
   "file_extension": ".py",
   "mimetype": "text/x-python",
   "name": "python",
   "nbconvert_exporter": "python",
   "pygments_lexer": "ipython3",
   "version": "3.7.6"
  }
 },
 "nbformat": 4,
 "nbformat_minor": 4
}
